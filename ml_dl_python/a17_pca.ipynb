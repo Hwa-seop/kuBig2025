{
 "cells": [
  {
   "cell_type": "code",
   "execution_count": null,
   "id": "9039ac30",
   "metadata": {},
   "outputs": [],
   "source": [
    "import numpy as np\n",
    "import matplotlib.pyplot as plt"
   ]
  },
  {
   "cell_type": "code",
   "execution_count": null,
   "id": "6488807c",
   "metadata": {},
   "outputs": [],
   "source": [
    "fruits=np.load(\"/home/hwaseop/ku_lhs2025/ml_dl_python/data/fruits_300.npy\")\n",
    "print(fruits.shape)"
   ]
  },
  {
   "cell_type": "code",
   "execution_count": 90,
   "id": "02f98cc9",
   "metadata": {},
   "outputs": [],
   "source": [
    "fruits_2d=fruits.reshape(300,100*100)"
   ]
  },
  {
   "cell_type": "code",
   "execution_count": null,
   "id": "361faf32",
   "metadata": {},
   "outputs": [],
   "source": [
    "from sklearn.decomposition import PCA\n",
    "pca = PCA(n_components=50)\n",
    "pca.fit(fruits_2d)"
   ]
  },
  {
   "cell_type": "code",
   "execution_count": null,
   "id": "afcbed29",
   "metadata": {},
   "outputs": [],
   "source": [
    "print(pca.components_.shape)"
   ]
  },
  {
   "cell_type": "code",
   "execution_count": null,
   "id": "cf22f4f0",
   "metadata": {},
   "outputs": [],
   "source": [
    "def draw_fruits(arr:np.ndarray, ratio=1):\n",
    "    n = len(arr) \n",
    "    rows = int(np.ceil(n/10))\n",
    "    cols = n if rows < 2 else 10\n",
    "    fig, axs = plt.subplots(rows, cols,\n",
    "                            figsize=(cols*ratio, rows*ratio), squeeze=False)\n",
    "    for i in range(rows):\n",
    "        for j in range(cols):\n",
    "            if i*10 + j < n: \n",
    "                axs[i, j].imshow(arr[i*10 + j], cmap='gray_r')\n",
    "            axs[i, j].axis('off')\n",
    "    plt.show()"
   ]
  },
  {
   "cell_type": "code",
   "execution_count": null,
   "id": "097e069f",
   "metadata": {},
   "outputs": [],
   "source": [
    "draw_fruits(pca.components_.reshape(-1,100,100))"
   ]
  },
  {
   "cell_type": "code",
   "execution_count": null,
   "id": "98711a99",
   "metadata": {},
   "outputs": [],
   "source": [
    "print(fruits_2d.shape)"
   ]
  },
  {
   "cell_type": "code",
   "execution_count": null,
   "id": "ede5dd26",
   "metadata": {},
   "outputs": [],
   "source": [
    "fruits_pca = pca.transform(fruits_2d)"
   ]
  },
  {
   "cell_type": "code",
   "execution_count": null,
   "id": "672ddaa6",
   "metadata": {},
   "outputs": [],
   "source": [
    "print(fruits_pca.reshape)"
   ]
  },
  {
   "cell_type": "code",
   "execution_count": null,
   "id": "47b9cd22",
   "metadata": {},
   "outputs": [],
   "source": [
    "fruits_inverse = pca.inverse_transform(fruits_pca)\n",
    "print(fruits_inverse.shape)"
   ]
  },
  {
   "cell_type": "code",
   "execution_count": null,
   "id": "ce6909fc",
   "metadata": {},
   "outputs": [],
   "source": [
    "draw_fruits(fruits_inverse.reshape(300,100,100))"
   ]
  },
  {
   "cell_type": "code",
   "execution_count": null,
   "id": "205a2cd2",
   "metadata": {},
   "outputs": [],
   "source": [
    "print(np.sum(pca.explained_variance_ratio_))"
   ]
  },
  {
   "cell_type": "code",
   "execution_count": null,
   "id": "41a5cbcd",
   "metadata": {},
   "outputs": [],
   "source": [
    "plt.plot(pca.explained_variance_ratio_)"
   ]
  },
  {
   "cell_type": "code",
   "execution_count": null,
   "id": "564b16c7",
   "metadata": {},
   "outputs": [],
   "source": [
    "from sklearn.linear_model import LogisticRegression\n",
    "lr = LogisticRegression()"
   ]
  },
  {
   "cell_type": "code",
   "execution_count": null,
   "id": "3d7374d1",
   "metadata": {},
   "outputs": [],
   "source": [
    "target=np.array([0]*100+[1]*100+[2]*100)"
   ]
  },
  {
   "cell_type": "code",
   "execution_count": null,
   "id": "b5e06580",
   "metadata": {},
   "outputs": [],
   "source": [
    "from sklearn.model_selection import cross_validate\n",
    "scores=cross_validate(lr,fruits_2d,target)\n",
    "print(np.mean(scores['test_score']))\n",
    "print(np.mean(scores['fit_time']))"
   ]
  },
  {
   "cell_type": "code",
   "execution_count": null,
   "id": "4099770d",
   "metadata": {},
   "outputs": [],
   "source": [
    "scores=cross_validate(lr,fruits_pca,target)\n",
    "print(np.mean(scores['test_score']))\n",
    "print(np.mean(scores['fit_time']))"
   ]
  },
  {
   "cell_type": "code",
   "execution_count": null,
   "id": "ff10d702",
   "metadata": {},
   "outputs": [],
   "source": [
    "from sklearn.cluster import KMeans\n",
    "\n",
    "km=KMeans(n_clusters=3,random_state=42)\n",
    "km.fit(fruits_pca)\n",
    "print(np.unique(km.labels_,return_counts=True))\n"
   ]
  },
  {
   "cell_type": "code",
   "execution_count": null,
   "id": "edb6ba38",
   "metadata": {},
   "outputs": [],
   "source": [
    "print(km.labels_)"
   ]
  },
  {
   "cell_type": "code",
   "execution_count": null,
   "id": "c4870591",
   "metadata": {},
   "outputs": [],
   "source": [
    "for label in range(0, 3):\n",
    "    data = fruits_pca[km.labels_ == label]\n",
    "    plt.scatter(data[:,0], data[:,1]) \n",
    "plt.legend(['pineapple', 'banana', 'apple'])\n",
    "plt.show()"
   ]
  },
  {
   "cell_type": "markdown",
   "id": "b80f499e",
   "metadata": {},
   "source": [
    "#계층적 군집화"
   ]
  },
  {
   "cell_type": "code",
   "execution_count": 86,
   "id": "e36e3503",
   "metadata": {},
   "outputs": [],
   "source": [
    "from sklearn.cluster import AgglomerativeClustering\n",
    "from scipy.cluster.hierarchy import dendrogram, linkage\n",
    "\n",
    "cluster = AgglomerativeClustering(n_clusters=10, metric=\"euclidean\", linkage=\"ward\")\n",
    "labels = cluster.fit(fruits_pca)"
   ]
  },
  {
   "cell_type": "code",
   "execution_count": 87,
   "id": "78da5765",
   "metadata": {},
   "outputs": [
    {
     "name": "stdout",
     "output_type": "stream",
     "text": [
      "[4 8 4 3 8 4 8 8 8 3 4 8 3 3 3 4 8 3 4 3 3 3 3 3 3 4 4 8 3 4 8 8 8 8 3 3 3\n",
      " 3 3 3 8 3 4 4 4 3 4 8 8 8 8 3 4 8 8 3 8 8 3 8 3 8 4 4 3 4 8 3 8 4 8 8 4 8\n",
      " 8 4 8 8 8 4 4 3 4 3 8 3 8 8 3 4 3 4 8 8 3 3 3 3 4 3 6 2 2 6 6 6 6 2 2 2 2\n",
      " 6 2 2 2 6 2 2 6 2 2 6 6 2 2 6 2 6 2 6 2 6 2 6 2 2 6 6 6 2 2 2 2 2 6 6 2 2\n",
      " 6 6 6 2 6 2 6 6 6 6 6 2 6 6 6 6 6 6 6 2 2 2 6 2 2 2 6 6 6 6 2 2 6 6 6 2 6\n",
      " 6 6 6 6 2 2 6 2 6 2 6 2 2 6 2 1 1 7 1 0 0 1 5 0 7 5 9 0 9 0 5 7 7 7 1 7 7\n",
      " 1 9 0 1 9 9 1 7 0 1 1 5 0 5 9 0 1 9 5 5 0 1 1 7 1 9 1 5 1 0 1 5 9 1 9 0 5\n",
      " 0 0 0 7 1 1 1 1 5 1 1 1 7 5 0 9 0 1 5 0 0 1 9 5 1 0 0 0 7 7 1 1 0 1 7 5 7\n",
      " 5 1 7 9]\n"
     ]
    }
   ],
   "source": [
    "print(labels.labels_)"
   ]
  },
  {
   "cell_type": "code",
   "execution_count": 89,
   "id": "6030066d",
   "metadata": {},
   "outputs": [
    {
     "data": {
      "image/png": "[encoded data removed]",
      "text/plain": [
       "<Figure size 640x480 with 1 Axes>"
      ]
     },
     "metadata": {},
     "output_type": "display_data"
    }
   ],
   "source": [
    "for label in range(0, 3):\n",
    "    data = fruits_pca[labels.labels_ == label]  \n",
    "    plt.scatter(data[:, 0], data[:, 1])\n",
    "plt.legend([\"pineapple\", \"banana\", \"apple\"])\n",
    "plt.show()"
   ]
  },
  {
   "cell_type": "code",
   "execution_count": null,
   "id": "035d3ffa",
   "metadata": {},
   "outputs": [],
   "source": []
  }
 ],
 "metadata": {
  "kernelspec": {
   "display_name": "Python 3",
   "language": "python",
   "name": "python3"
  },
  "language_info": {
   "codemirror_mode": {
    "name": "ipython",
    "version": 3
   },
   "file_extension": ".py",
   "mimetype": "text/x-python",
   "name": "python",
   "nbconvert_exporter": "python",
   "pygments_lexer": "ipython3",
   "version": "3.10.12"
  }
 },
 "nbformat": 4,
 "nbformat_minor": 5
}
