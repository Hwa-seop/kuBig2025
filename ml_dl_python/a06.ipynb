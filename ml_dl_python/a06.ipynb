{
 "cells": [
  {
   "cell_type": "code",
   "execution_count": null,
   "id": "f1b0cc75",
   "metadata": {},
   "outputs": [],
   "source": [
    "import numpy as np\n",
    "import matplotlib.pyplot as plt\n",
    "from sklearn.model_selection import train_test_split\n",
    "from sklearn.neighbors import KNeighborsRegressor"
   ]
  },
  {
   "cell_type": "code",
   "execution_count": null,
   "id": "03526c44",
   "metadata": {},
   "outputs": [],
   "source": [
    "perch_length = np.array(\n",
    "    [8.4, 13.7, 15.0, 16.2, 17.4, 18.0, 18.7, 19.0, 19.6, 20.0,\n",
    "     21.0, 21.0, 21.0, 21.3, 22.0, 22.0, 22.0, 22.0, 22.0, 22.5,\n",
    "     22.5, 22.7, 23.0, 23.5, 24.0, 24.0, 24.6, 25.0, 25.6, 26.5,\n",
    "     27.3, 27.5, 27.5, 27.5, 28.0, 28.7, 30.0, 32.8, 34.5, 35.0,\n",
    "     36.5, 36.0, 37.0, 37.0, 39.0, 39.0, 39.0, 40.0, 40.0, 40.0,\n",
    "     40.0, 42.0, 43.0, 43.0, 43.5, 44.0]\n",
    "     )\n",
    "perch_weight = np.array(\n",
    "    [5.9, 32.0, 40.0, 51.5, 70.0, 100.0, 78.0, 80.0, 85.0, 85.0,\n",
    "     110.0, 115.0, 125.0, 130.0, 120.0, 120.0, 130.0, 135.0, 110.0,\n",
    "     130.0, 150.0, 145.0, 150.0, 170.0, 225.0, 145.0, 188.0, 180.0,\n",
    "     197.0, 218.0, 300.0, 260.0, 265.0, 250.0, 250.0, 300.0, 320.0,\n",
    "     514.0, 556.0, 840.0, 685.0, 700.0, 700.0, 690.0, 900.0, 650.0,\n",
    "     820.0, 850.0, 900.0, 1015.0, 820.0, 1100.0, 1000.0, 1100.0,\n",
    "     1000.0, 1000.0]\n",
    "     )"
   ]
  },
  {
   "cell_type": "code",
   "execution_count": null,
   "id": "b6fdb050",
   "metadata": {},
   "outputs": [],
   "source": [
    "plt.scatter(perch_length,perch_weight)\n",
    "plt.show()"
   ]
  },
  {
   "cell_type": "code",
   "execution_count": null,
   "id": "c6cdbc2e",
   "metadata": {},
   "outputs": [],
   "source": [
    "train_input, test_input, train_target, test_target = train_test_split(perch_length, \n",
    "                                    perch_weight, train_size=0.8, random_state=42\n",
    ")"
   ]
  },
  {
   "cell_type": "code",
   "execution_count": null,
   "id": "584c840d",
   "metadata": {},
   "outputs": [],
   "source": [
    "print(train_input.shape,test_input.shape)\n",
    "train_input=train_input.reshape(-1,1) #-1은 알아서 shape을 맞춰줌\n",
    "test_input=test_input.reshape(-1,1)"
   ]
  },
  {
   "cell_type": "code",
   "execution_count": null,
   "id": "57759309",
   "metadata": {},
   "outputs": [],
   "source": [
    "knr =KNeighborsRegressor()\n",
    "knr.fit(train_input,train_target)"
   ]
  },
  {
   "cell_type": "code",
   "execution_count": null,
   "id": "1f19401c",
   "metadata": {},
   "outputs": [],
   "source": [
    "knr.score(test_input,test_target)"
   ]
  },
  {
   "cell_type": "code",
   "execution_count": null,
   "id": "48c62f35",
   "metadata": {},
   "outputs": [],
   "source": [
    "from sklearn.metrics import (\n",
    "    mean_absolute_error,# mae 절댓값 오차. \n",
    "    mean_squared_error,\n",
    "    root_mean_squared_error\n",
    "    ) \n",
    "test_prediction=knr.predict(test_input)\n",
    "mae=mean_absolute_error(test_target,test_prediction)\n",
    "mse=mean_squared_error(test_target,test_prediction)\n",
    "rmse=root_mean_squared_error(test_target,test_prediction)\n",
    "\n",
    "print(mae)\n",
    "print(mse)\n",
    "print(rmse)"
   ]
  },
  {
   "cell_type": "code",
   "execution_count": null,
   "id": "62e50542",
   "metadata": {},
   "outputs": [],
   "source": [
    "print(knr.score(train_input,train_target))"
   ]
  },
  {
   "cell_type": "code",
   "execution_count": null,
   "id": "832bc1c0",
   "metadata": {},
   "outputs": [],
   "source": [
    "knr.n_neighbors=3\n",
    "knr.fit(train_input,train_target)\n",
    "print(knr.score(train_input,train_target))\n"
   ]
  },
  {
   "cell_type": "code",
   "execution_count": null,
   "id": "2e93256f",
   "metadata": {},
   "outputs": [],
   "source": [
    "print(knr.score(test_input,test_target))"
   ]
  }
 ],
 "metadata": {
  "kernelspec": {
   "display_name": "Python 3",
   "language": "python",
   "name": "python3"
  },
  "language_info": {
   "codemirror_mode": {
    "name": "ipython",
    "version": 3
   },
   "file_extension": ".py",
   "mimetype": "text/x-python",
   "name": "python",
   "nbconvert_exporter": "python",
   "pygments_lexer": "ipython3",
   "version": "3.10.12"
  }
 },
 "nbformat": 4,
 "nbformat_minor": 5
}
