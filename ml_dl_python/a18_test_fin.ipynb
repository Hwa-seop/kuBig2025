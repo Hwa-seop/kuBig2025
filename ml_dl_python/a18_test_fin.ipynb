{
 "cells": [
  {
   "cell_type": "code",
   "execution_count": 2,
   "id": "4094e0b0",
   "metadata": {},
   "outputs": [],
   "source": [
    "# 🩹 강제 패치\n",
    "import PIL\n",
    "import PIL.ExifTags\n",
    "import PIL.Image\n",
    "import PIL.ImageOps\n",
    "\n",
    "# 1. ExifTags 경로 문제 해결, PIL.Image에서 ExifTags에 직접 접근할 수 있도록 강제 지정\n",
    "PIL.Image.ExifTags = PIL.ExifTags\n",
    "\n",
    "# 2. ExifTags.Base.Orientation 이슈 해결\n",
    "class FakeBase:\n",
    "    Orientation = 274  # 일반적인 Orientation 태그 ID\n",
    "\n",
    "PIL.ExifTags.Base = FakeBase()\n",
    "\n",
    "# ✅ 이제 나머지 코드 실행\n",
    "from transformers import ViTFeatureExtractor, ViTForImageClassification\n",
    "from datasets import load_dataset\n",
    "\n",
    "dataset = load_dataset(\"huggingface/cats-image\", trust_remote_code=True)\n",
    "image = dataset[\"test\"][0][\"image\"]\n",
    "image.show()\n"
   ]
  },
  {
   "cell_type": "code",
   "execution_count": null,
   "id": "e1a37458",
   "metadata": {},
   "outputs": [],
   "source": []
  }
 ],
 "metadata": {
  "kernelspec": {
   "display_name": "Python 3",
   "language": "python",
   "name": "python3"
  },
  "language_info": {
   "codemirror_mode": {
    "name": "ipython",
    "version": 3
   },
   "file_extension": ".py",
   "mimetype": "text/x-python",
   "name": "python",
   "nbconvert_exporter": "python",
   "pygments_lexer": "ipython3",
   "version": "3.10.12"
  }
 },
 "nbformat": 4,
 "nbformat_minor": 5
}
