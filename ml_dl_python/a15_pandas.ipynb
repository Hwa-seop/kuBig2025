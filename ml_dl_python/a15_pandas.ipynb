{
 "cells": [
  {
   "cell_type": "code",
   "execution_count": 28,
   "id": "ee8f245d",
   "metadata": {},
   "outputs": [],
   "source": [
    "import numpy as np\n",
    "import pandas as pd"
   ]
  },
  {
   "cell_type": "code",
   "execution_count": 29,
   "id": "0f08ff82",
   "metadata": {},
   "outputs": [
    {
     "name": "stdout",
     "output_type": "stream",
     "text": [
      "[100 101 102 103 104]\n",
      "0    100\n",
      "1    101\n",
      "2    102\n",
      "3    103\n",
      "4    104\n",
      "dtype: int64\n",
      "0    100\n",
      "1    101\n",
      "2    102\n",
      "3    103\n",
      "4    104\n",
      "dtype: int32\n",
      "0    부장\n",
      "1    차장\n",
      "2    대리\n",
      "3    사원\n",
      "4    인턴\n",
      "dtype: object\n"
     ]
    }
   ],
   "source": [
    "arr=np.arange(100,105)\n",
    "print(arr)\n",
    "s1=pd.Series(arr)\n",
    "s2=pd.Series(arr,dtype=\"int32\")\n",
    "s3=pd.Series([\"부장\",\"차장\",\"대리\",\"사원\",\"인턴\"])\n",
    "\n",
    "print(s1, s2, s3, sep=\"\\n\")"
   ]
  },
  {
   "cell_type": "code",
   "execution_count": 30,
   "id": "ffd335b5",
   "metadata": {},
   "outputs": [
    {
     "name": "stdout",
     "output_type": "stream",
     "text": [
      "부장\n",
      "1    101\n",
      "2    102\n",
      "3    103\n",
      "dtype: int32\n",
      "1    차장\n",
      "3    사원\n",
      "dtype: object\n",
      "4    104\n",
      "dtype: int32\n"
     ]
    }
   ],
   "source": [
    "print(s3[0])\n",
    "print(s2[[1, 2, 3]])  # fancy 인덱싱\n",
    "print(s3[np.arange(1, 4, 2)])  # fancy 인덱싱 -> bool 인덱싱\n",
    "print(s2[s2 > 103])"
   ]
  },
  {
   "cell_type": "code",
   "execution_count": 31,
   "id": "02496a2d",
   "metadata": {},
   "outputs": [
    {
     "name": "stdout",
     "output_type": "stream",
     "text": [
      "a    마케팅\n",
      "b     경영\n",
      "c     개발\n",
      "d     기획\n",
      "e     인사\n",
      "dtype: object\n"
     ]
    }
   ],
   "source": [
    "s = pd.Series(\n",
    "    [\"마케팅\", \"경영\", \"개발\", \"기획\", \"인사\"], index=[\"a\", \"b\", \"c\", \"d\", \"e\"]\n",
    ")\n",
    "print(s)"
   ]
  },
  {
   "cell_type": "code",
   "execution_count": 32,
   "id": "d04504fb",
   "metadata": {},
   "outputs": [
    {
     "name": "stdout",
     "output_type": "stream",
     "text": [
      "마케팅\n"
     ]
    }
   ],
   "source": [
    "print(s[\"a\"])"
   ]
  },
  {
   "cell_type": "code",
   "execution_count": 33,
   "id": "8b8ef83e",
   "metadata": {},
   "outputs": [
    {
     "name": "stdout",
     "output_type": "stream",
     "text": [
      "['마케팅' '경영' '개발' '기획' '인사']\n",
      "1\n",
      "(5,)\n"
     ]
    }
   ],
   "source": [
    "print(s.values)\n",
    "print(s.ndim)\n",
    "print(s.shape)"
   ]
  },
  {
   "cell_type": "code",
   "execution_count": 34,
   "id": "cee48511",
   "metadata": {},
   "outputs": [],
   "source": [
    "s2 = pd.Series([\"선화\", \"강호\", np.nan, \"소정\", \"우영\"])"
   ]
  },
  {
   "cell_type": "code",
   "execution_count": 35,
   "id": "ea36a6a4",
   "metadata": {},
   "outputs": [
    {
     "name": "stdout",
     "output_type": "stream",
     "text": [
      "0    False\n",
      "1    False\n",
      "2     True\n",
      "3    False\n",
      "4    False\n",
      "dtype: bool\n",
      "0    False\n",
      "1    False\n",
      "2     True\n",
      "3    False\n",
      "4    False\n",
      "dtype: bool\n",
      "0     True\n",
      "1     True\n",
      "2    False\n",
      "3     True\n",
      "4     True\n",
      "dtype: bool\n",
      "0    선화\n",
      "1    강호\n",
      "3    소정\n",
      "4    우영\n",
      "dtype: object\n"
     ]
    }
   ],
   "source": [
    "print(s2.isnull())\n",
    "print(s2.isna())\n",
    "print(s2.notnull())\n",
    "print(s2[s2.notnull()])"
   ]
  },
  {
   "cell_type": "code",
   "execution_count": 36,
   "id": "b2b6be83",
   "metadata": {},
   "outputs": [
    {
     "name": "stdout",
     "output_type": "stream",
     "text": [
      "1     196\n",
      "4     194\n",
      "6     170\n",
      "7     170\n",
      "11    195\n",
      "12    171\n",
      "13    168\n",
      "14    178\n",
      "16    192\n",
      "17    191\n",
      "19    190\n",
      "25    185\n",
      "27    164\n",
      "31    179\n",
      "36    166\n",
      "37    176\n",
      "38    196\n",
      "39    167\n",
      "44    193\n",
      "45    193\n",
      "46    194\n",
      "dtype: int64\n"
     ]
    }
   ],
   "source": [
    "#50개의 랜덤 (100~200 생성 후 160 이상만 출력)\n",
    "np.random.seed(50)\n",
    "sample=pd.Series(np.random.randint(100,200,size=(50,)))\n",
    "print(sample[sample>160])"
   ]
  },
  {
   "cell_type": "code",
   "execution_count": 39,
   "id": "44737fe6",
   "metadata": {},
   "outputs": [
    {
     "name": "stdout",
     "output_type": "stream",
     "text": [
      "   가  나  다\n",
      "a  1  2  3\n",
      "b  4  5  6\n",
      "c  7  8  9\n"
     ]
    }
   ],
   "source": [
    "df=pd.DataFrame([[1,2,3],[4,5,6],[7,8,9]],columns=['가','나','다'],index=['a','b','c'])\n",
    "print(df)\n"
   ]
  },
  {
   "cell_type": "code",
   "execution_count": 42,
   "id": "31d1c370",
   "metadata": {},
   "outputs": [
    {
     "name": "stdout",
     "output_type": "stream",
     "text": [
      "<class 'pandas.core.frame.DataFrame'>\n",
      "RangeIndex: 6 entries, 0 to 5\n",
      "Data columns (total 10 columns):\n",
      " #   Column  Non-Null Count  Dtype\n",
      "---  ------  --------------  -----\n",
      " 0   0       6 non-null      int64\n",
      " 1   1       6 non-null      int64\n",
      " 2   2       6 non-null      int64\n",
      " 3   3       6 non-null      int64\n",
      " 4   4       6 non-null      int64\n",
      " 5   5       6 non-null      int64\n",
      " 6   6       6 non-null      int64\n",
      " 7   7       6 non-null      int64\n",
      " 8   8       6 non-null      int64\n",
      " 9   9       6 non-null      int64\n",
      "dtypes: int64(10)\n",
      "memory usage: 608.0 bytes\n",
      "None\n"
     ]
    }
   ],
   "source": [
    "df=pd.DataFrame(np.arange(60).reshape(6,10))\n",
    "print(df.info())"
   ]
  },
  {
   "cell_type": "code",
   "execution_count": 43,
   "id": "49c5d58a",
   "metadata": {},
   "outputs": [
    {
     "name": "stdout",
     "output_type": "stream",
     "text": [
      "   name  age  children\n",
      "0   Kim   24         2\n",
      "1   lee   26         1\n",
      "2  park   28         3\n"
     ]
    }
   ],
   "source": [
    "df=pd.DataFrame({'name':['Kim','lee','park'],'age':[24,26,28],'children':[2,1,3]})\n",
    "print(df)"
   ]
  },
  {
   "cell_type": "code",
   "execution_count": 45,
   "id": "4a6691d3",
   "metadata": {},
   "outputs": [
    {
     "name": "stdout",
     "output_type": "stream",
     "text": [
      "    Species  Weight  Length  Diagonal   Height   Width\n",
      "0     Bream   242.0    25.4      30.0  11.5200  4.0200\n",
      "1     Bream   290.0    26.3      31.2  12.4800  4.3056\n",
      "2     Bream   340.0    26.5      31.1  12.3778  4.6961\n",
      "3     Bream   363.0    29.0      33.5  12.7300  4.4555\n",
      "4     Bream   430.0    29.0      34.0  12.4440  5.1340\n",
      "..      ...     ...     ...       ...      ...     ...\n",
      "154   Smelt    12.2    12.2      13.4   2.0904  1.3936\n",
      "155   Smelt    13.4    12.4      13.5   2.4300  1.2690\n",
      "156   Smelt    12.2    13.0      13.8   2.2770  1.2558\n",
      "157   Smelt    19.7    14.3      15.2   2.8728  2.0672\n",
      "158   Smelt    19.9    15.0      16.2   2.9322  1.8792\n",
      "\n",
      "[159 rows x 6 columns]\n"
     ]
    }
   ],
   "source": [
    "df=pd.read_csv(\"/home/hwaseop/ku_lhs2025/ml_dl_python/data/fish_csv_data.csv\")\n",
    "print(df)"
   ]
  },
  {
   "cell_type": "code",
   "execution_count": null,
   "id": "255fec29",
   "metadata": {},
   "outputs": [],
   "source": []
  }
 ],
 "metadata": {
  "kernelspec": {
   "display_name": "Python 3",
   "language": "python",
   "name": "python3"
  },
  "language_info": {
   "codemirror_mode": {
    "name": "ipython",
    "version": 3
   },
   "file_extension": ".py",
   "mimetype": "text/x-python",
   "name": "python",
   "nbconvert_exporter": "python",
   "pygments_lexer": "ipython3",
   "version": "3.10.12"
  }
 },
 "nbformat": 4,
 "nbformat_minor": 5
}
