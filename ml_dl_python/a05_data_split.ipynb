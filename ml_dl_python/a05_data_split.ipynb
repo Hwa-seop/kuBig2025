{
 "cells": [
  {
   "cell_type": "code",
   "execution_count": 1,
   "id": "76386b98",
   "metadata": {},
   "outputs": [],
   "source": [
    "length = [\n",
    "    25.4, 26.3, 26.5, 29.0, 29.0, 29.7, 29.7, 30.0, 30.0, 30.7, 31.0, 31.0, 31.5, 32.0, 32.0, 32.0, \n",
    "    33.0, 33.0, 33.5, 33.5, 34.0, 34.0, 34.5, 35.0, 35.0, 35.0, 35.0, 36.0, 36.0, 37.0, 38.5, 38.5, \n",
    "    39.5, 41.0, 41.0, 9.8, 10.5, 10.6, 11.0, 11.2, 11.3, 11.8, 11.8, 12.0, 12.2, 12.4, 13.0, 14.3, 15.0]\n",
    "weight = [\n",
    "    242.0, 290.0, 340.0, 363.0, 430.0, 450.0, 500.0, 390.0, 450.0, 500.0, 475.0, 500.0, 500.0, 340.0, 600.0, \n",
    "    600.0, 700.0, 700.0, 610.0, 650.0, 575.0, 685.0, 620.0, 680.0, 700.0, 725.0, 720.0, 714.0, 850.0, 1000.0, \n",
    "    920.0, 955.0, 925.0, 975.0, 950.0, 6.7, 7.5, 7.0, 9.7, 9.8, 8.7, 10.0, 9.9, 9.8, 12.2, 13.4, 12.2, 19.7, 19.9]\n",
    "\n",
    "label = [\n",
    "    1, 1, 1, 1, 1, 1, 1, 1, 1, 1, 1, 1, 1, 1, 1, 1, 1, 1, 1, 1, 1, 1, 1, 1, 1, 1, 1, 1, 1, 1, 1, 1, 1, 1, 1, 0, 0, \n",
    "    0, 0, 0, 0, 0, 0, 0, 0, 0, 0, 0, 0]\n",
    "fish_data = [[l, w] for l, w in zip(length, weight)]"
   ]
  },
  {
   "cell_type": "code",
   "execution_count": 2,
   "id": "40a10a03",
   "metadata": {},
   "outputs": [],
   "source": [
    "import numpy as np"
   ]
  },
  {
   "cell_type": "code",
   "execution_count": 3,
   "id": "7b522153",
   "metadata": {},
   "outputs": [],
   "source": [
    "input_arr=np.array(fish_data)\n",
    "target_arr=np.array(label)"
   ]
  },
  {
   "cell_type": "code",
   "execution_count": 4,
   "id": "abc5454e",
   "metadata": {},
   "outputs": [],
   "source": [
    "from sklearn.model_selection import train_test_split"
   ]
  },
  {
   "cell_type": "code",
   "execution_count": 5,
   "id": "87e233cb",
   "metadata": {},
   "outputs": [],
   "source": [
    "train_input, test_input, train_target, test_target = train_test_split(\n",
    "    input_arr, target_arr, train_size=0.8, random_state=42\n",
    ")"
   ]
  },
  {
   "cell_type": "code",
   "execution_count": 6,
   "id": "83c09a6c",
   "metadata": {},
   "outputs": [
    {
     "name": "stdout",
     "output_type": "stream",
     "text": [
      "(39, 2) (39,)\n"
     ]
    }
   ],
   "source": [
    "print(train_input.shape,train_target.shape)"
   ]
  },
  {
   "cell_type": "code",
   "execution_count": 7,
   "id": "fff6ad6c",
   "metadata": {},
   "outputs": [
    {
     "name": "stdout",
     "output_type": "stream",
     "text": [
      "(10, 2) (10,)\n"
     ]
    }
   ],
   "source": [
    "print(test_input.shape, test_target.shape)"
   ]
  },
  {
   "cell_type": "code",
   "execution_count": 8,
   "id": "570b6c6c",
   "metadata": {},
   "outputs": [
    {
     "data": {
      "text/plain": [
       "array([[ 31.5, 500. ],\n",
       "       [ 29. , 430. ],\n",
       "       [ 41. , 950. ],\n",
       "       [ 30. , 450. ],\n",
       "       [ 29. , 363. ]])"
      ]
     },
     "execution_count": 8,
     "metadata": {},
     "output_type": "execute_result"
    }
   ],
   "source": [
    "train_input[:5, :]"
   ]
  },
  {
   "cell_type": "code",
   "execution_count": 9,
   "id": "cf64e8e2",
   "metadata": {},
   "outputs": [
    {
     "name": "stdout",
     "output_type": "stream",
     "text": [
      "1.0\n"
     ]
    }
   ],
   "source": [
    "from sklearn.neighbors import KNeighborsClassifier\n",
    "knn = KNeighborsClassifier()\n",
    "knn.fit(train_input, train_target)\n",
    "print(knn.score(test_input, test_target))  # validation == test"
   ]
  },
  {
   "cell_type": "code",
   "execution_count": 10,
   "id": "693ebdad",
   "metadata": {},
   "outputs": [
    {
     "name": "stdout",
     "output_type": "stream",
     "text": [
      "[0]\n"
     ]
    }
   ],
   "source": [
    "print(knn.predict([[25,150]]))"
   ]
  },
  {
   "cell_type": "code",
   "execution_count": 17,
   "id": "daa35ce0",
   "metadata": {},
   "outputs": [
    {
     "data": {
      "image/png": "[encoded data removed]",
      "text/plain": [
       "<Figure size 640x480 with 1 Axes>"
      ]
     },
     "metadata": {},
     "output_type": "display_data"
    }
   ],
   "source": [
    "import matplotlib.pyplot as plt\n",
    "plt.scatter(train_input[:,0],train_input[:,1])\n",
    "plt.scatter(25,150,marker='^')\n",
    "plt.show()"
   ]
  },
  {
   "cell_type": "code",
   "execution_count": 18,
   "id": "b53ee79c",
   "metadata": {},
   "outputs": [
    {
     "name": "stdout",
     "output_type": "stream",
     "text": [
      "[ 26.76410256 434.13333333] [ 10.12221439 320.45298734]\n"
     ]
    }
   ],
   "source": [
    "mean=np.mean(train_input,axis=0)\n",
    "std=np.std(train_input,axis=0)\n",
    "print(mean,std)"
   ]
  },
  {
   "cell_type": "code",
   "execution_count": 12,
   "id": "ed2efe30",
   "metadata": {},
   "outputs": [],
   "source": [
    "train_scaled=(train_input-mean)/std\n",
    "# mean=np.mean(train_scaled,axis=0)\n",
    "# std=np.std(train_scaled,axis=0)\n",
    "# print(mean,std)\n"
   ]
  },
  {
   "cell_type": "code",
   "execution_count": 13,
   "id": "83b8ae9b",
   "metadata": {},
   "outputs": [
    {
     "name": "stdout",
     "output_type": "stream",
     "text": [
      "0.7\n",
      "1.0\n"
     ]
    }
   ],
   "source": [
    "knn.fit(train_scaled,train_target)\n",
    "print(knn.score(test_input,test_target)) #잘못된 결과!\n",
    "\n",
    "test_scaled=(test_input-mean)/std\n",
    "print(knn.score(test_scaled,test_target)) "
   ]
  },
  {
   "cell_type": "code",
   "execution_count": 14,
   "id": "da9e5d63",
   "metadata": {},
   "outputs": [
    {
     "name": "stdout",
     "output_type": "stream",
     "text": [
      "[1]\n"
     ]
    }
   ],
   "source": [
    "predict_data=(np.array([25,150])-mean)/std\n",
    "print(knn.predict([predict_data]))"
   ]
  },
  {
   "cell_type": "code",
   "execution_count": null,
   "id": "fdb077db",
   "metadata": {},
   "outputs": [],
   "source": []
  }
 ],
 "metadata": {
  "kernelspec": {
   "display_name": "Python 3",
   "language": "python",
   "name": "python3"
  },
  "language_info": {
   "codemirror_mode": {
    "name": "ipython",
    "version": 3
   },
   "file_extension": ".py",
   "mimetype": "text/x-python",
   "name": "python",
   "nbconvert_exporter": "python",
   "pygments_lexer": "ipython3",
   "version": "3.10.12"
  }
 },
 "nbformat": 4,
 "nbformat_minor": 5
}
