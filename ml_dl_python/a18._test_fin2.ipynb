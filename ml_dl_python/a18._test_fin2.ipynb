{
 "cells": [
  {
   "cell_type": "code",
   "execution_count": 1,
   "id": "b3d1aa98",
   "metadata": {},
   "outputs": [
    {
     "name": "stderr",
     "output_type": "stream",
     "text": [
      "/home/hwaseop/.local/lib/python3.10/site-packages/tqdm/auto.py:21: TqdmWarning: IProgress not found. Please update jupyter and ipywidgets. See https://ipywidgets.readthedocs.io/en/stable/user_install.html\n",
      "  from .autonotebook import tqdm as notebook_tqdm\n"
     ]
    }
   ],
   "source": [
    "# 🩹 강제 패치\n",
    "import PIL\n",
    "import PIL.ExifTags\n",
    "import PIL.Image\n",
    "import PIL.ImageOps\n",
    "\n",
    "# 1. ExifTags 경로 문제 해결, PIL.Image에서 ExifTags에 직접 접근할 수 있도록 강제 지정\n",
    "PIL.Image.ExifTags = PIL.ExifTags\n",
    "\n",
    "# 2. ExifTags.Base.Orientation 이슈 해결\n",
    "class FakeBase:\n",
    "    Orientation = 274  # 일반적인 Orientation 태그 ID\n",
    "\n",
    "PIL.ExifTags.Base = FakeBase()\n",
    "\n",
    "from transformers import  ViTFeatureExtractor,ViTForImageClassification\n",
    "import torch\n",
    "from datasets import load_dataset\n",
    "dataset=load_dataset(\"huggingface/cats-image\",trust_remote_code=True)\n",
    "image=dataset[\"test\"][\"image\"][0]\n",
    "image.show()"
   ]
  },
  {
   "cell_type": "code",
   "execution_count": 2,
   "id": "fa687971",
   "metadata": {},
   "outputs": [
    {
     "name": "stderr",
     "output_type": "stream",
     "text": [
      "/home/hwaseop/.local/lib/python3.10/site-packages/transformers/models/vit/feature_extraction_vit.py:30: FutureWarning: The class ViTFeatureExtractor is deprecated and will be removed in version 5 of Transformers. Please use ViTImageProcessor instead.\n",
      "  warnings.warn(\n"
     ]
    },
    {
     "name": "stdout",
     "output_type": "stream",
     "text": [
      "Egyptian cat\n"
     ]
    }
   ],
   "source": [
    "feature_extractor=ViTFeatureExtractor.from_pretrained(\"google/vit-base-patch16-224\")\n",
    "model=ViTForImageClassification.from_pretrained(\"google/vit-base-patch16-224\")\n",
    "\n",
    "inputs=feature_extractor(image,return_tensors=\"pt\")\n",
    "\n",
    "with torch.no_grad():\n",
    "    logits=model(**inputs).logits\n",
    "    \n",
    "predicted_label=logits.argmax(-1).item()\n",
    "print(model.config.id2label[predicted_label])"
   ]
  },
  {
   "cell_type": "code",
   "execution_count": null,
   "id": "d259ca65",
   "metadata": {},
   "outputs": [],
   "source": []
  }
 ],
 "metadata": {
  "kernelspec": {
   "display_name": "Python 3",
   "language": "python",
   "name": "python3"
  },
  "language_info": {
   "codemirror_mode": {
    "name": "ipython",
    "version": 3
   },
   "file_extension": ".py",
   "mimetype": "text/x-python",
   "name": "python",
   "nbconvert_exporter": "python",
   "pygments_lexer": "ipython3",
   "version": "3.10.12"
  }
 },
 "nbformat": 4,
 "nbformat_minor": 5
}
