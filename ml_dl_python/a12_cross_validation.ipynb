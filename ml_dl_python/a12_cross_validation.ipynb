{
 "cells": [
  {
   "cell_type": "code",
   "execution_count": 1,
   "id": "b80a6205",
   "metadata": {},
   "outputs": [],
   "source": [
    "import pandas as pd\n",
    "wine=pd.read_csv(\"/home/hwaseop/ku_lhs2025/ml_dl_python/data/wine_csv_data.csv\")"
   ]
  },
  {
   "cell_type": "code",
   "execution_count": 2,
   "id": "46ebe761",
   "metadata": {},
   "outputs": [],
   "source": [
    "data=wine[[\"alcohol\",\"sugar\",\"pH\"]].to_numpy()\n",
    "target=wine[[\"class\"]].to_numpy()"
   ]
  },
  {
   "cell_type": "code",
   "execution_count": 6,
   "id": "0c2b713c",
   "metadata": {},
   "outputs": [],
   "source": [
    "from sklearn.model_selection import train_test_split\n",
    "\n",
    "train_input,test_input,train_target,test_target=train_test_split(\n",
    "    train_input,train_target,test_size=0.2,random_state=42)"
   ]
  },
  {
   "cell_type": "code",
   "execution_count": 7,
   "id": "2fd281dc",
   "metadata": {},
   "outputs": [],
   "source": [
    "\n",
    "sub_input,val_input,sub_target,val_target=train_test_split(\n",
    "    data,target,test_size=0.2,random_state=42)"
   ]
  },
  {
   "cell_type": "code",
   "execution_count": null,
   "id": "07263c7f",
   "metadata": {},
   "outputs": [],
   "source": [
    "print(sub_input.shape,val_input.shape,test_input.shape)"
   ]
  },
  {
   "cell_type": "code",
   "execution_count": null,
   "id": "dcaac09d",
   "metadata": {},
   "outputs": [],
   "source": [
    "from sklearn.tree import DecisionTreeClassifier\n",
    "\n",
    "dt=DecisionTreeClassifier(max_depth=5,random_state=42)\n",
    "dt.fit(sub_input,sub_target)\n",
    "\n",
    "print(dt.score(sub_input,sub_target))\n",
    "print(dt.score(test_input,test_target))\n",
    "\n"
   ]
  },
  {
   "cell_type": "code",
   "execution_count": null,
   "id": "f62abcde",
   "metadata": {},
   "outputs": [],
   "source": [
    "#교차검증\n",
    "\n",
    "from sklearn.model_selection import cross_validate\n",
    "\n",
    "scores=cross_validate(dt,train_input,train_target)\n",
    "print(scores)"
   ]
  }
 ],
 "metadata": {
  "kernelspec": {
   "display_name": "Python 3",
   "language": "python",
   "name": "python3"
  },
  "language_info": {
   "codemirror_mode": {
    "name": "ipython",
    "version": 3
   },
   "file_extension": ".py",
   "mimetype": "text/x-python",
   "name": "python",
   "nbconvert_exporter": "python",
   "pygments_lexer": "ipython3",
   "version": "3.10.12"
  }
 },
 "nbformat": 4,
 "nbformat_minor": 5
}
