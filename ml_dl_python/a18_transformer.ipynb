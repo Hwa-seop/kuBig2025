{
 "cells": [
  {
   "cell_type": "code",
   "execution_count": null,
   "id": "3aa9e3b1",
   "metadata": {},
   "outputs": [],
   "source": [
    "!pip install transformers"
   ]
  },
  {
   "cell_type": "code",
   "execution_count": null,
   "id": "0197f0d3",
   "metadata": {},
   "outputs": [],
   "source": [
    "!pip install torch"
   ]
  },
  {
   "cell_type": "code",
   "execution_count": null,
   "id": "7b7c65a5",
   "metadata": {},
   "outputs": [],
   "source": [
    "!pip install datasets"
   ]
  },
  {
   "cell_type": "code",
   "execution_count": 14,
   "id": "8c249e1e",
   "metadata": {},
   "outputs": [],
   "source": [
    "from transformers import  ViTFeatureExtractor,ViTForImageClassification\n",
    "import torch\n",
    "from datasets import load_dataset\n",
    "dataset=load_dataset(\"huggingface/cats-image\",trust_remote_code=True)\n",
    "image=dataset[\"test\"][\"image\"][0]"
   ]
  },
  {
   "cell_type": "code",
   "execution_count": 19,
   "id": "ed23342f",
   "metadata": {},
   "outputs": [
    {
     "name": "stdout",
     "output_type": "stream",
     "text": [
      "/usr/bin/python3\n"
     ]
    }
   ],
   "source": [
    "import sys\n",
    "print(sys.executable)"
   ]
  },
  {
   "cell_type": "code",
   "execution_count": 18,
   "id": "4e8b21ef",
   "metadata": {},
   "outputs": [],
   "source": [
    "from transformers import ViTFeatureExtractor, ViTForImageClassification\n",
    "import torch\n",
    "from datasets import load_dataset\n",
    "\n",
    "# 1. 데이터셋 로드\n",
    "dataset = load_dataset(\"huggingface/cats-image\", trust_remote_code=True)\n",
    "\n",
    "# 2. 이미지 하나 추출\n",
    "image = dataset[\"test\"][\"image\"][0]\n",
    "\n",
    "# 3. 이미지 확인\n",
    "image.show()\n"
   ]
  },
  {
   "cell_type": "code",
   "execution_count": 17,
   "id": "3cd796e9",
   "metadata": {},
   "outputs": [
    {
     "name": "stderr",
     "output_type": "stream",
     "text": [
      "/home/hwaseop/.local/lib/python3.10/site-packages/transformers/models/vit/feature_extraction_vit.py:30: FutureWarning: The class ViTFeatureExtractor is deprecated and will be removed in version 5 of Transformers. Please use ViTImageProcessor instead.\n",
      "  warnings.warn(\n"
     ]
    },
    {
     "name": "stdout",
     "output_type": "stream",
     "text": [
      "🐱 예측된 클래스: Egyptian cat\n"
     ]
    }
   ],
   "source": [
    "from transformers import ViTFeatureExtractor, ViTForImageClassification\n",
    "from PIL import Image\n",
    "import torch\n",
    "from datasets import load_dataset\n",
    "\n",
    "# 1. 데이터셋 로드\n",
    "dataset = load_dataset(\"huggingface/cats-image\", trust_remote_code=True)\n",
    "image = dataset[\"test\"][0][\"image\"]  # 고양이 이미지 1장\n",
    "image.show()\n",
    "\n",
    "# 2. 모델 및 전처리기 로드\n",
    "extractor = ViTFeatureExtractor.from_pretrained(\"google/vit-base-patch16-224\")\n",
    "model = ViTForImageClassification.from_pretrained(\"google/vit-base-patch16-224\")\n",
    "\n",
    "# 3. 이미지 전처리\n",
    "inputs = extractor(images=image, return_tensors=\"pt\")\n",
    "\n",
    "# 4. 추론\n",
    "with torch.no_grad():\n",
    "    outputs = model(**inputs)\n",
    "\n",
    "# 5. 결과 해석\n",
    "logits = outputs.logits\n",
    "predicted_class_idx = logits.argmax(-1).item()\n",
    "label = model.config.id2label[predicted_class_idx]\n",
    "\n",
    "print(f\"🐱 예측된 클래스: {label}\")\n"
   ]
  },
  {
   "cell_type": "code",
   "execution_count": null,
   "id": "d864cac2",
   "metadata": {},
   "outputs": [],
   "source": [
    "from PIL import ExifTags\n",
    "print(\"정상 작동 ✅\", dir(ExifTags))\n"
   ]
  },
  {
   "cell_type": "code",
   "execution_count": 16,
   "id": "6845d9ce",
   "metadata": {},
   "outputs": [],
   "source": [
    "# 🩹 강제 패치\n",
    "import PIL\n",
    "import PIL.ExifTags\n",
    "import PIL.Image\n",
    "import PIL.ImageOps\n",
    "\n",
    "# 1. ExifTags 경로 문제 해결\n",
    "PIL.Image.ExifTags = PIL.ExifTags\n",
    "\n",
    "# 2. ExifTags.Base.Orientation 이슈 해결\n",
    "class FakeBase:\n",
    "    Orientation = 274  # 일반적인 Orientation 태그 ID\n",
    "\n",
    "PIL.ExifTags.Base = FakeBase()\n",
    "\n",
    "# ✅ 이제 나머지 코드 실행\n",
    "from transformers import ViTFeatureExtractor, ViTForImageClassification\n",
    "from datasets import load_dataset\n",
    "\n",
    "dataset = load_dataset(\"huggingface/cats-image\", trust_remote_code=True)\n",
    "image = dataset[\"test\"][0][\"image\"]\n",
    "image.show()\n"
   ]
  },
  {
   "cell_type": "code",
   "execution_count": null,
   "id": "a52a90ec",
   "metadata": {},
   "outputs": [],
   "source": []
  }
 ],
 "metadata": {
  "kernelspec": {
   "display_name": "Python 3",
   "language": "python",
   "name": "python3"
  },
  "language_info": {
   "codemirror_mode": {
    "name": "ipython",
    "version": 3
   },
   "file_extension": ".py",
   "mimetype": "text/x-python",
   "name": "python",
   "nbconvert_exporter": "python",
   "pygments_lexer": "ipython3",
   "version": "3.10.12"
  }
 },
 "nbformat": 4,
 "nbformat_minor": 5
}
