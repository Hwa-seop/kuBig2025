{
 "cells": [
  {
   "cell_type": "code",
   "execution_count": 1,
   "id": "50cb7a04",
   "metadata": {},
   "outputs": [],
   "source": [
    "import numpy as np\n",
    "a1=np.array([2.0,3,4.0],dtype=np.int8)"
   ]
  },
  {
   "cell_type": "code",
   "execution_count": 2,
   "id": "4346aced",
   "metadata": {},
   "outputs": [
    {
     "name": "stdout",
     "output_type": "stream",
     "text": [
      "int8\n",
      "1\n",
      "(3,)\n",
      "1\n",
      "3\n"
     ]
    }
   ],
   "source": [
    "print(a1.dtype)\n",
    "print(a1.ndim)\n",
    "print(a1.shape)\n",
    "print(a1.itemsize)\n",
    "print(a1.size)\n"
   ]
  },
  {
   "cell_type": "code",
   "execution_count": null,
   "id": "dc310821",
   "metadata": {},
   "outputs": [],
   "source": [
    "ar1=np.arange(27) #[0,27]\n",
    "print(ar1)\n",
    "ar2=np.arange(1,10,0.3)\n",
    "print(ar2)\n",
    "ar3=np.linspace(1,117,30)\n",
    "print(ar3)"
   ]
  },
  {
   "cell_type": "code",
   "execution_count": null,
   "id": "ce27b03b",
   "metadata": {},
   "outputs": [],
   "source": [
    "np_list=[]\n",
    "np_list.append(np.zeros((3,4,5),dtype=np.int8))\n",
    "np_list.append(np.full((3,4,5),132,dtype=np.int16))\n",
    "np_list.append(np.eye(5,k=1))\n",
    "np_list.append(np.eye(5,k=0))\n",
    "np_list.append(np.diag(np_list[2],k=1)) #진단시 사용\n",
    "for np1 in np_list:\n",
    "    print(np1)"
   ]
  },
  {
   "cell_type": "code",
   "execution_count": null,
   "id": "398693bc",
   "metadata": {},
   "outputs": [],
   "source": [
    "b1=np.ones_like(ar3)\n",
    "b2=np.zeros_like(ar3)\n",
    "# b3=np.full_like(ar3)\n",
    "print(b1)"
   ]
  },
  {
   "cell_type": "code",
   "execution_count": null,
   "id": "c53679a5",
   "metadata": {},
   "outputs": [],
   "source": [
    "print(ar2)\n",
    "a3=np.arange(9).reshape((3,3))\n",
    "print(a3)\n",
    "c1=ar2+ar3\n",
    "c2=ar2-ar3\n",
    "c3=ar2/ar3\n",
    "print(c1,c2,c3)"
   ]
  }
 ],
 "metadata": {
  "kernelspec": {
   "display_name": "Python 3",
   "language": "python",
   "name": "python3"
  },
  "language_info": {
   "codemirror_mode": {
    "name": "ipython",
    "version": 3
   },
   "file_extension": ".py",
   "mimetype": "text/x-python",
   "name": "python",
   "nbconvert_exporter": "python",
   "pygments_lexer": "ipython3",
   "version": "3.10.12"
  }
 },
 "nbformat": 4,
 "nbformat_minor": 5
}
