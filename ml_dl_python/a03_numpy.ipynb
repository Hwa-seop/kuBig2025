{
 "cells": [
  {
   "cell_type": "code",
   "execution_count": 4,
   "id": "50cb7a04",
   "metadata": {},
   "outputs": [],
   "source": [
    "import numpy as np\n",
    "a1=np.array([2.0,3,4.0],dtype=np.int8)"
   ]
  },
  {
   "cell_type": "code",
   "execution_count": 8,
   "id": "4346aced",
   "metadata": {},
   "outputs": [
    {
     "name": "stdout",
     "output_type": "stream",
     "text": [
      "int8\n",
      "1\n",
      "(3,)\n",
      "1\n",
      "3\n"
     ]
    }
   ],
   "source": [
    "print(a1.dtype)\n",
    "print(a1.ndim)\n",
    "print(a1.shape)\n",
    "print(a1.itemsize)\n",
    "print(a1.size)\n"
   ]
  },
  {
   "cell_type": "code",
   "execution_count": null,
   "id": "d76689b7",
   "metadata": {},
   "outputs": [],
   "source": []
  },
  {
   "cell_type": "code",
   "execution_count": null,
   "id": "9ab4adaf",
   "metadata": {},
   "outputs": [],
   "source": []
  },
  {
   "cell_type": "code",
   "execution_count": null,
   "id": "f70b008a",
   "metadata": {},
   "outputs": [],
   "source": []
  },
  {
   "cell_type": "code",
   "execution_count": 14,
   "id": "dc310821",
   "metadata": {},
   "outputs": [
    {
     "name": "stdout",
     "output_type": "stream",
     "text": [
      "[ 0  1  2  3  4  5  6  7  8  9 10 11 12 13 14 15 16 17 18 19 20 21 22 23\n",
      " 24 25 26]\n",
      "[1.  1.3 1.6 1.9 2.2 2.5 2.8 3.1 3.4 3.7 4.  4.3 4.6 4.9 5.2 5.5 5.8 6.1\n",
      " 6.4 6.7 7.  7.3 7.6 7.9 8.2 8.5 8.8 9.1 9.4 9.7]\n",
      "[  1.   5.   9.  13.  17.  21.  25.  29.  33.  37.  41.  45.  49.  53.\n",
      "  57.  61.  65.  69.  73.  77.  81.  85.  89.  93.  97. 101. 105. 109.\n",
      " 113. 117.]\n"
     ]
    }
   ],
   "source": [
    "ar1=np.arange(27) #[0,27]\n",
    "print(ar1)\n",
    "ar2=np.arange(1,10,0.3)\n",
    "print(ar2)\n",
    "ar3=np.linspace(1,117,30)\n",
    "print(ar3)"
   ]
  },
  {
   "cell_type": "code",
   "execution_count": 19,
   "id": "ce27b03b",
   "metadata": {},
   "outputs": [
    {
     "name": "stdout",
     "output_type": "stream",
     "text": [
      "[[[0 0 0 0 0]\n",
      "  [0 0 0 0 0]\n",
      "  [0 0 0 0 0]\n",
      "  [0 0 0 0 0]]\n",
      "\n",
      " [[0 0 0 0 0]\n",
      "  [0 0 0 0 0]\n",
      "  [0 0 0 0 0]\n",
      "  [0 0 0 0 0]]\n",
      "\n",
      " [[0 0 0 0 0]\n",
      "  [0 0 0 0 0]\n",
      "  [0 0 0 0 0]\n",
      "  [0 0 0 0 0]]]\n",
      "[[[132 132 132 132 132]\n",
      "  [132 132 132 132 132]\n",
      "  [132 132 132 132 132]\n",
      "  [132 132 132 132 132]]\n",
      "\n",
      " [[132 132 132 132 132]\n",
      "  [132 132 132 132 132]\n",
      "  [132 132 132 132 132]\n",
      "  [132 132 132 132 132]]\n",
      "\n",
      " [[132 132 132 132 132]\n",
      "  [132 132 132 132 132]\n",
      "  [132 132 132 132 132]\n",
      "  [132 132 132 132 132]]]\n",
      "[[0. 1. 0. 0. 0.]\n",
      " [0. 0. 1. 0. 0.]\n",
      " [0. 0. 0. 1. 0.]\n",
      " [0. 0. 0. 0. 1.]\n",
      " [0. 0. 0. 0. 0.]]\n",
      "[[1. 0. 0. 0. 0.]\n",
      " [0. 1. 0. 0. 0.]\n",
      " [0. 0. 1. 0. 0.]\n",
      " [0. 0. 0. 1. 0.]\n",
      " [0. 0. 0. 0. 1.]]\n",
      "[1. 1. 1. 1.]\n"
     ]
    }
   ],
   "source": [
    "np_list=[]\n",
    "np_list.append(np.zeros((3,4,5),dtype=np.int8))\n",
    "np_list.append(np.full((3,4,5),132,dtype=np.int16))\n",
    "np_list.append(np.eye(5,k=1))\n",
    "np_list.append(np.eye(5,k=0))\n",
    "np_list.append(np.diag(np_list[2],k=1)) #진단시 사용\n",
    "for np1 in np_list:\n",
    "    print(np1)"
   ]
  },
  {
   "cell_type": "code",
   "execution_count": null,
   "id": "398693bc",
   "metadata": {},
   "outputs": [],
   "source": [
    "b1=np.ones_like(a3)\n",
    "b2=np.zeros_like(a3)\n",
    "b3=np.full_like(a3)\n",
    "print(b1)\n"
   ]
  },
  {
   "cell_type": "code",
   "execution_count": null,
   "id": "c53679a5",
   "metadata": {},
   "outputs": [],
   "source": [
    "print(a2)\n",
    "a3=np.arange(9).reshape((3,3))\n",
    "print(a3)\n",
    "c1=a2+a3\n",
    "c2=a2-a3\n",
    "c3=a2/a3\n",
    "print(c1,c2,c3)"
   ]
  }
 ],
 "metadata": {
  "kernelspec": {
   "display_name": "Python 3",
   "language": "python",
   "name": "python3"
  },
  "language_info": {
   "codemirror_mode": {
    "name": "ipython",
    "version": 3
   },
   "file_extension": ".py",
   "mimetype": "text/x-python",
   "name": "python",
   "nbconvert_exporter": "python",
   "pygments_lexer": "ipython3",
   "version": "3.10.12"
  }
 },
 "nbformat": 4,
 "nbformat_minor": 5
}
