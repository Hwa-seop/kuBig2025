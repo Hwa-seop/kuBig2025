{
 "cells": [
  {
   "cell_type": "markdown",
   "id": "787d71d4",
   "metadata": {},
   "source": [
    "#물고기 분류 프로그램"
   ]
  },
  {
   "cell_type": "code",
   "execution_count": null,
   "id": "987fd625",
   "metadata": {},
   "outputs": [],
   "source": [
    "bream_length = [25.4, 26.3, 26.5, 29.0, 29.0, 29.7, 29.7, 30.0, 30.0, 30.7, 31.0, 31.0, 31.5, 32.0, 32.0, 32.0, 33.0, 33.0, \n",
    "                33.5, 33.5, 34.0, 34.0, 34.5, 35.0, 35.0, 35.0, 35.0, 36.0, 36.0, 37.0, 38.5, 38.5, 39.5, 41.0, 41.0]\n",
    "\n",
    "bream_weight = [242.0, 290.0, 340.0, 363.0, 430.0, 450.0, 500.0, 390.0, 450.0, 500.0, 475.0, 500.0, 500.0, 340.0, 600.0, \n",
    "                600.0, 700.0, 700.0, 610.0, 650.0, 575.0, 685.0, 620.0, 680.0, 700.0, 725.0, 720.0, 714.0, 850.0, 1000.0, \n",
    "                920.0, 955.0, 925.0, 975.0, 950.0]"
   ]
  },
  {
   "cell_type": "code",
   "execution_count": null,
   "id": "ccbc8314",
   "metadata": {},
   "outputs": [],
   "source": [
    "import matplotlib.pyplot as plt \n",
    "plt.scatter(bream_length,bream_weight)\n",
    "plt.xlabel(\"length(cm)\") #x축길이\n",
    "plt.ylabel(\"weight(g)\") #y축무게\n",
    "plt.show()"
   ]
  },
  {
   "cell_type": "code",
   "execution_count": null,
   "id": "2843f0be",
   "metadata": {},
   "outputs": [],
   "source": [
    "smelt_length = [9.8, 10.5, 10.6, 11.0, 11.2, 11.3, 11.8, 11.8, 12.0, 12.2, 12.4, 13.0, 14.3, 15.0]\n",
    "smelt_weight = [6.7, 7.5, 7.0, 9.7, 9.8, 8.7, 10.0, 9.9, 9.8, 12.2, 13.4, 12.2, 19.7, 19.9]"
   ]
  },
  {
   "cell_type": "code",
   "execution_count": null,
   "id": "6acc0667",
   "metadata": {},
   "outputs": [],
   "source": [
    "import matplotlib.pyplot as plt\n",
    "plt.scatter(bream_length,bream_weight)\n",
    "plt.scatter(smelt_length,smelt_weight)\n",
    "plt.xlabel(\"length(cm)\")\n",
    "plt.ylabel(\"weight(g)\")\n",
    "plt.show()"
   ]
  },
  {
   "cell_type": "markdown",
   "id": "f42c0713",
   "metadata": {},
   "source": [
    "##지도학습"
   ]
  },
  {
   "cell_type": "code",
   "execution_count": null,
   "id": "d446e2e3",
   "metadata": {},
   "outputs": [],
   "source": [
    "length=bream_length+smelt_length\n",
    "weight=bream_weight+smelt_weight\n",
    "fish_data=[[l,w] for l,w in zip(length,weight)]\n",
    "fish_label=[1]*len(bream_length)+[0]*len(smelt_length)\n",
    "for data,label in zip(fish_data,fish_label):\n",
    "    print(f\"DATA : {data}, LABEL : {label}\")"
   ]
  },
  {
   "cell_type": "code",
   "execution_count": null,
   "id": "240fcb56",
   "metadata": {},
   "outputs": [],
   "source": [
    "from sklearn.neighbors import KNeighborsClassifier\n",
    "import numpy as np\n",
    "fish_data=np.array(fish_data)\n",
    "kn=KNeighborsClassifier()\n",
    "kn.fit(fish_data,fish_label)"
   ]
  },
  {
   "cell_type": "code",
   "execution_count": null,
   "id": "f36a58d0",
   "metadata": {},
   "outputs": [],
   "source": [
    "kn.score(fish_data,fish_label) #정확도"
   ]
  },
  {
   "cell_type": "code",
   "execution_count": null,
   "id": "4c7335f8",
   "metadata": {},
   "outputs": [],
   "source": [
    "kn.predict(np.array([[20.0, 300.0], [13.0, 20.0]]))"
   ]
  },
  {
   "cell_type": "code",
   "execution_count": null,
   "id": "1aa9f838",
   "metadata": {},
   "outputs": [],
   "source": [
    "kn49=KNeighborsClassifier(n_neighbors=49)"
   ]
  },
  {
   "cell_type": "code",
   "execution_count": null,
   "id": "efca7edb",
   "metadata": {},
   "outputs": [],
   "source": [
    "kn49.fit(fish_data,fish_label)\n",
    "kn49.score(fish_data,fish_label)"
   ]
  },
  {
   "cell_type": "code",
   "execution_count": null,
   "id": "893c69f1",
   "metadata": {},
   "outputs": [],
   "source": [
    "print(length)\n",
    "print(weight)\n",
    "print(fish_data)\n",
    "print(fish_label)\n"
   ]
  },
  {
   "cell_type": "code",
   "execution_count": null,
   "id": "b3e08f71",
   "metadata": {},
   "outputs": [],
   "source": [
    "import numpy as np\n",
    "\n",
    "input_arr=np.array(fish_data)\n",
    "target_arr=np.array(fish_label)\n"
   ]
  },
  {
   "cell_type": "code",
   "execution_count": null,
   "id": "09951473",
   "metadata": {},
   "outputs": [],
   "source": [
    "print(input_arr.shape)"
   ]
  },
  {
   "cell_type": "code",
   "execution_count": null,
   "id": "d026725e",
   "metadata": {},
   "outputs": [],
   "source": [
    "np.random.seed(42)\n",
    "index=np.arange(42)\n",
    "np.random.shuffle(index)\n",
    "print(index)"
   ]
  },
  {
   "cell_type": "code",
   "execution_count": null,
   "id": "89ab5719",
   "metadata": {},
   "outputs": [],
   "source": [
    "print(input_arr[[1,3]])"
   ]
  },
  {
   "cell_type": "code",
   "execution_count": null,
   "id": "309f3004",
   "metadata": {},
   "outputs": [],
   "source": [
    "train_input=input_arr[index[:35]]\n",
    "train_target=target_arr[index[:35]]\n",
    "\n",
    "print(input_arr[13],train_input[0])"
   ]
  },
  {
   "cell_type": "code",
   "execution_count": null,
   "id": "9f325d7e",
   "metadata": {},
   "outputs": [],
   "source": [
    "test_input=input_arr[index[35:]]\n",
    "test_target=target_arr[index[35:]]\n"
   ]
  },
  {
   "cell_type": "code",
   "execution_count": null,
   "id": "33cf710b",
   "metadata": {},
   "outputs": [],
   "source": [
    "import matplotlib.pyplot as plt\n",
    "plt.scatter(train_input[:,0],train_input[:,1])\n",
    "plt.scatter(test_input[:,0],test_input[:,1])\n",
    "plt.xlabel('length')\n",
    "plt.ylabel('weight')\n",
    "plt.show()"
   ]
  }
 ],
 "metadata": {
  "kernelspec": {
   "display_name": "Python 3",
   "language": "python",
   "name": "python3"
  },
  "language_info": {
   "codemirror_mode": {
    "name": "ipython",
    "version": 3
   },
   "file_extension": ".py",
   "mimetype": "text/x-python",
   "name": "python",
   "nbconvert_exporter": "python",
   "pygments_lexer": "ipython3",
   "version": "3.10.12"
  }
 },
 "nbformat": 4,
 "nbformat_minor": 5
}
