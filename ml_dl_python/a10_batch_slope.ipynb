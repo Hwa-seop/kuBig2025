{
 "cells": [
  {
   "cell_type": "code",
   "execution_count": null,
   "id": "dc0ce812",
   "metadata": {},
   "outputs": [],
   "source": [
    "import pandas as pd\n",
    "fish=pd.read_csv('/home/hwaseop/ku_lhs2025/ml_dl_python/data/fish_csv_data.csv')"
   ]
  },
  {
   "cell_type": "code",
   "execution_count": null,
   "id": "3077415f",
   "metadata": {},
   "outputs": [],
   "source": [
    "fish_input=fish[['Weight','Length','Diagonal','Height','Width']].to_numpy()\n",
    "fish_target=fish[[\"Species\"]].to_numpy()\n"
   ]
  },
  {
   "cell_type": "code",
   "execution_count": null,
   "id": "435f9b21",
   "metadata": {},
   "outputs": [],
   "source": [
    "from sklearn.model_selection import train_test_split\n",
    "train_input,test_input,train_target,test_target=train_test_split(fish_input,fish_target,random_state=42)"
   ]
  },
  {
   "cell_type": "code",
   "execution_count": null,
   "id": "a4f20397",
   "metadata": {},
   "outputs": [],
   "source": [
    "from sklearn.preprocessing import StandardScaler\n",
    "\n",
    "ss= StandardScaler()\n",
    "ss.fit(train_input)\n",
    "train_scaled=ss.transform(train_input)\n",
    "test_scaled=ss.transform(test_input)"
   ]
  },
  {
   "cell_type": "code",
   "execution_count": null,
   "id": "2c24a666",
   "metadata": {},
   "outputs": [],
   "source": [
    "from sklearn.linear_model import SGDClassifier"
   ]
  },
  {
   "cell_type": "code",
   "execution_count": null,
   "id": "214b7350",
   "metadata": {},
   "outputs": [],
   "source": [
    "sc=SGDClassifier(loss='log_loss',max_iter=10,random_state=42)\n",
    "sc.fit(train_scaled,train_target)\n",
    "\n",
    "print(sc.score(train_scaled,train_target))\n",
    "print(sc.score(test_scaled,test_target))\n"
   ]
  },
  {
   "cell_type": "code",
   "execution_count": null,
   "id": "83515553",
   "metadata": {},
   "outputs": [],
   "source": [
    "sc.partial_fit(train_scaled,train_target)\n",
    "print(sc.score(train_scaled,train_target))\n",
    "print(sc.score(test_scaled,test_target))\n"
   ]
  },
  {
   "cell_type": "code",
   "execution_count": null,
   "id": "98f88990",
   "metadata": {},
   "outputs": [],
   "source": [
    "sc.partial_fit(train_scaled,train_target)\n",
    "print(sc.score(train_scaled,train_target))\n",
    "print(sc.score(test_scaled,test_target))"
   ]
  },
  {
   "cell_type": "code",
   "execution_count": null,
   "id": "d2c1f664",
   "metadata": {},
   "outputs": [],
   "source": [
    "import numpy as np\n",
    "\n",
    "sc = SGDClassifier(loss=\"log_loss\", random_state=42)\n",
    "\n",
    "train_scores = []\n",
    "test_scores = []\n",
    "\n",
    "classes = np.unique(train_target)"
   ]
  },
  {
   "cell_type": "code",
   "execution_count": null,
   "id": "fadb729c",
   "metadata": {},
   "outputs": [],
   "source": [
    "for _ in range(0, 300):  # 1 loop 1 epoche\n",
    "    sc.partial_fit(train_scaled, train_target, classes=classes)\n",
    "\n",
    "    train_scores.append(sc.score(train_scaled, train_target))\n",
    "    test_scores.append(sc.score(test_scaled, test_target))"
   ]
  },
  {
   "cell_type": "code",
   "execution_count": null,
   "id": "5b43e2ec",
   "metadata": {},
   "outputs": [],
   "source": [
    "import matplotlib.pyplot as plt\n",
    "\n",
    "plt.plot(train_scores)\n",
    "plt.plot(test_scores)\n",
    "plt.show()"
   ]
  },
  {
   "cell_type": "code",
   "execution_count": null,
   "id": "17a094b9",
   "metadata": {},
   "outputs": [],
   "source": [
    "import numpy as np\n",
    "\n",
    "sc = SGDClassifier(loss=\"log_loss\", random_state=42)\n",
    "\n",
    "train_scores = []\n",
    "test_scores = []\n",
    "\n",
    "classes = np.unique(train_target)\n",
    "n_epochs=300\n",
    "n_batches=5\n",
    "n_samples=train_scaled.shape[0]\n",
    "print(n_samples)\n",
    "batch_size=n_samples//n_batches"
   ]
  },
  {
   "cell_type": "code",
   "execution_count": null,
   "id": "e07f87b1",
   "metadata": {},
   "outputs": [],
   "source": [
    "for epoch in range(n_epochs):\n",
    "    indices=np.random.permutation(n_samples)\n",
    "    train_scaled_shuffled=train_scaled[indices]\n",
    "    train_target_shuffled=train_target[indices]\n",
    "    \n",
    "    \n",
    "    for i in range(n_batches):\n",
    "        start=i*batch_size\n",
    "        if i==n_batches-1:\n",
    "            end=n_samples\n",
    "        else:\n",
    "            end=(i+1)*batch_size\n",
    "            \n",
    "        batch_X=train_scaled_shuffled[start:end]\n",
    "        batch_Y=train_target_shuffled[start:end]\n",
    "        \n",
    "        if epoch ==0 and i==0:\n",
    "            sc.partial_fit(batch_X,batch_Y,classes=classes)\n",
    "        else:\n",
    "            sc.partial_fit(batch_X,batch_Y)\n",
    "        train_scores.append(sc.score(train_scaled,train_target))\n",
    "        test_scores.append(sc.score(test_scaled,test_target))\n",
    "        "
   ]
  },
  {
   "cell_type": "code",
   "execution_count": null,
   "id": "c868c203",
   "metadata": {},
   "outputs": [],
   "source": [
    "import matplotlib.pyplot as plt\n",
    "\n",
    "plt.plot(train_scores)\n",
    "plt.plot(test_scores)\n",
    "plt.show()"
   ]
  },
  {
   "cell_type": "code",
   "execution_count": null,
   "id": "f4d6750a",
   "metadata": {},
   "outputs": [],
   "source": []
  }
 ],
 "metadata": {
  "kernelspec": {
   "display_name": "Python 3",
   "language": "python",
   "name": "python3"
  },
  "language_info": {
   "codemirror_mode": {
    "name": "ipython",
    "version": 3
   },
   "file_extension": ".py",
   "mimetype": "text/x-python",
   "name": "python",
   "nbconvert_exporter": "python",
   "pygments_lexer": "ipython3",
   "version": "3.10.12"
  }
 },
 "nbformat": 4,
 "nbformat_minor": 5
}
