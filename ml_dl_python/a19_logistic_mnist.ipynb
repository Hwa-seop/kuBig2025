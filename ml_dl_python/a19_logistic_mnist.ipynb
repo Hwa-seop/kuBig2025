{
 "cells": [
  {
   "cell_type": "code",
   "execution_count": null,
   "id": "56b729e7",
   "metadata": {},
   "outputs": [],
   "source": [
    "!pip install tensorflow\n",
    "from tensorflow import keras"
   ]
  },
  {
   "cell_type": "code",
   "execution_count": null,
   "id": "f982a86c",
   "metadata": {},
   "outputs": [],
   "source": [
    "(train_input, train_target), (test_input, test_target) = (\n",
    "    keras.datasets.fashion_mnist.load_data()\n",
    ")"
   ]
  },
  {
   "cell_type": "code",
   "execution_count": null,
   "id": "21f550e4",
   "metadata": {},
   "outputs": [],
   "source": [
    "import matplotlib.pyplot as plt\n",
    "\n",
    "fig, axs = plt.subplots(1, 10, figsize=(10, 10))\n",
    "for i in range(10):\n",
    "    axs[i].imshow(train_input[i], cmap=\"gray_r\")\n",
    "    axs[i].axis(\"off\")\n",
    "plt.show()\n",
    "print(len(train_input))"
   ]
  },
  {
   "cell_type": "code",
   "execution_count": null,
   "id": "84bdbeca",
   "metadata": {},
   "outputs": [],
   "source": [
    "print([train_target[i] for i in range(10)])"
   ]
  },
  {
   "cell_type": "code",
   "execution_count": null,
   "id": "bd7d049b",
   "metadata": {},
   "outputs": [],
   "source": [
    "import numpy as np\n",
    "\n",
    "print(np.unique(train_target, return_counts=True))"
   ]
  },
  {
   "cell_type": "code",
   "execution_count": null,
   "id": "d3dd6855",
   "metadata": {},
   "outputs": [],
   "source": [
    "train_scaled = train_input / 255.0\n",
    "print(len(train_scaled))\n",
    "train_scaled = train_scaled.reshape(-1, 28 * 28)\n",
    "print(len(train_scaled))\n",
    "print(train_scaled.shape)"
   ]
  },
  {
   "cell_type": "code",
   "execution_count": null,
   "id": "36b89b3d",
   "metadata": {},
   "outputs": [],
   "source": [
    "from sklearn.model_selection import cross_validate\n",
    "from sklearn.linear_model import SGDClassifier\n",
    "\n",
    "sc = SGDClassifier(loss=\"log_loss\", max_iter=5, random_state=42)\n",
    "scores = cross_validate(sc, train_scaled, train_target, n_jobs=-1)\n",
    "print(np.mean(scores[\"test_score\"]))"
   ]
  },
  {
   "cell_type": "code",
   "execution_count": null,
   "id": "b29088d2",
   "metadata": {},
   "outputs": [],
   "source": [
    "# keras dense layers\n",
    "\n",
    "from sklearn.model_selection import train_test_split\n",
    "\n",
    "train_X, test_X, train_y, test_y = train_test_split(\n",
    "    train_scaled, train_target, test_size=0.2, random_state=42\n",
    ")\n",
    "print(train_X.shape, train_y.shape)"
   ]
  },
  {
   "cell_type": "code",
   "execution_count": null,
   "id": "c40efb0e",
   "metadata": {},
   "outputs": [],
   "source": [
    "dense = keras.layers.Dense(10, activation=\"softmax\", input_shape=(784,))\n",
    "model = keras.Sequential([dense])"
   ]
  },
  {
   "cell_type": "code",
   "execution_count": null,
   "id": "a97702a8",
   "metadata": {},
   "outputs": [],
   "source": [
    "model.compile(loss=\"sparse_categorical_crossentropy\", metrics=[\"accuracy\"])"
   ]
  },
  {
   "cell_type": "code",
   "execution_count": null,
   "id": "c8f8a155",
   "metadata": {},
   "outputs": [],
   "source": [
    "model.fit(train_X, train_y, epochs=5)"
   ]
  },
  {
   "cell_type": "code",
   "execution_count": null,
   "id": "ce5f43e6",
   "metadata": {},
   "outputs": [],
   "source": [
    "model.evaluate(test_X, test_y)"
   ]
  }
 ],
 "metadata": {
  "kernelspec": {
   "display_name": "Python 3",
   "language": "python",
   "name": "python3"
  },
  "language_info": {
   "codemirror_mode": {
    "name": "ipython",
    "version": 3
   },
   "file_extension": ".py",
   "mimetype": "text/x-python",
   "name": "python",
   "nbconvert_exporter": "python",
   "pygments_lexer": "ipython3",
   "version": "3.10.12"
  }
 },
 "nbformat": 4,
 "nbformat_minor": 5
}
