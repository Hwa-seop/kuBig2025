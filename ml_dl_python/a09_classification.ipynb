{
 "cells": [
  {
   "cell_type": "code",
   "execution_count": null,
   "id": "bfd1ed89",
   "metadata": {},
   "outputs": [],
   "source": [
    "import pandas as pd\n",
    "fish=pd.read_csv('/home/hwaseop/ku_lhs2025/ml_dl_python/data/fish_csv_data.csv')\n",
    "fish.head()"
   ]
  },
  {
   "cell_type": "code",
   "execution_count": null,
   "id": "cbf68bb0",
   "metadata": {},
   "outputs": [],
   "source": [
    "print(pd.unique(fish[\"Species\"]))"
   ]
  },
  {
   "cell_type": "code",
   "execution_count": null,
   "id": "6e0ed522",
   "metadata": {},
   "outputs": [],
   "source": [
    "fish_input=fish[['Weight','Length','Diagonal','Height','Width']].to_numpy()"
   ]
  },
  {
   "cell_type": "code",
   "execution_count": null,
   "id": "8388b365",
   "metadata": {},
   "outputs": [],
   "source": [
    "fish_target=fish[[\"Species\"]].to_numpy()"
   ]
  },
  {
   "cell_type": "code",
   "execution_count": null,
   "id": "1f94cbbd",
   "metadata": {},
   "outputs": [],
   "source": [
    "from sklearn.model_selection import train_test_split\n",
    "train_input,test_input,train_target,test_target=train_test_split(fish_input,fish_target,random_state=42)"
   ]
  },
  {
   "cell_type": "code",
   "execution_count": null,
   "id": "75fdf203",
   "metadata": {},
   "outputs": [],
   "source": [
    "from sklearn.preprocessing import StandardScaler\n",
    "ss= StandardScaler()\n",
    "ss.fit(train_input)\n",
    "train_scaled=ss.transform(train_input)\n",
    "test_scaled=ss.transform(test_input)"
   ]
  },
  {
   "cell_type": "code",
   "execution_count": null,
   "id": "6b907d71",
   "metadata": {},
   "outputs": [],
   "source": [
    "from sklearn.neighbors import KNeighborsClassifier\n",
    "kn=KNeighborsClassifier(n_neighbors=3)\n",
    "kn.fit(train_scaled,train_target)\n",
    "\n",
    "print(kn.score(train_scaled,train_target))\n",
    "print(kn.score(test_scaled,test_target))\n"
   ]
  },
  {
   "cell_type": "code",
   "execution_count": null,
   "id": "ca72ce22",
   "metadata": {},
   "outputs": [],
   "source": [
    "print(kn.classes_)\n"
   ]
  },
  {
   "cell_type": "code",
   "execution_count": null,
   "id": "801ffed1",
   "metadata": {},
   "outputs": [],
   "source": [
    "print(kn.predict(ss.transform([[242.0, 25.4, 30.0, 11.5200, 4.0200]])))\n",
    "print(kn.predict_proba(ss.transform([[242.0, 25.4, 30.0, 11.5200, 4.0200]])))\n",
    "print(kn.predict(ss.transform(fish_input[:5])))"
   ]
  },
  {
   "cell_type": "code",
   "execution_count": null,
   "id": "95eba334",
   "metadata": {},
   "outputs": [],
   "source": [
    "import numpy as np\n",
    "import matplotlib.pyplot as plt\n",
    "\n",
    "z=np.arange(-5,5,0.1)\n",
    "phi=1/(1+np.exp(-z))\n",
    "plt.plot(z, phi)\n",
    "plt.show()"
   ]
  },
  {
   "cell_type": "code",
   "execution_count": null,
   "id": "6e0cf22c",
   "metadata": {},
   "outputs": [],
   "source": [
    "char_arr=np.array([\"A\",\"B\",\"C\",\"D\",\"E\"])\n",
    "print(char_arr[[True,False,True,False,False]])"
   ]
  },
  {
   "cell_type": "code",
   "execution_count": null,
   "id": "1d2deec4",
   "metadata": {},
   "outputs": [],
   "source": [
    "bream_smelt_indexes=(train_target.flatten()==\"Bream\")|(train_target.flatten()==\"Smelt\")\n",
    "print(train_target.shape,train_scaled.shape,bream_smelt_indexes.shape)\n",
    "train_bream_smelt=train_scaled[bream_smelt_indexes]\n",
    "target_bream_smelt=train_target[bream_smelt_indexes]"
   ]
  },
  {
   "cell_type": "code",
   "execution_count": null,
   "id": "2097e424",
   "metadata": {},
   "outputs": [],
   "source": [
    "from sklearn.linear_model import LogisticRegression\n",
    "lr=LogisticRegression()\n",
    "lr.fit(train_bream_smelt,target_bream_smelt)"
   ]
  },
  {
   "cell_type": "code",
   "execution_count": null,
   "id": "20552e3c",
   "metadata": {},
   "outputs": [],
   "source": [
    "print(lr.predict(train_bream_smelt[:5]))"
   ]
  },
  {
   "cell_type": "code",
   "execution_count": null,
   "id": "03e2b411",
   "metadata": {},
   "outputs": [],
   "source": [
    "print(lr.classes_)"
   ]
  },
  {
   "cell_type": "code",
   "execution_count": null,
   "id": "4ea1ff20",
   "metadata": {},
   "outputs": [],
   "source": [
    "print(lr.predict_proba(train_bream_smelt[:5]))"
   ]
  },
  {
   "cell_type": "code",
   "execution_count": null,
   "id": "9a86e6c4",
   "metadata": {},
   "outputs": [],
   "source": [
    "print(lr.coef_,lr.intercept_)"
   ]
  },
  {
   "cell_type": "code",
   "execution_count": null,
   "id": "238987a9",
   "metadata": {},
   "outputs": [],
   "source": [
    "lr=LogisticRegression(C=20,max_iter=1000)\n",
    "lr.fit(train_scaled,train_target)\n",
    "\n",
    "print(lr.score(train_scaled,train_target))\n",
    "print(lr.score(test_scaled,test_target))\n"
   ]
  },
  {
   "cell_type": "code",
   "execution_count": null,
   "id": "f8c0aa79",
   "metadata": {},
   "outputs": [],
   "source": [
    "print(lr.predict(test_scaled[0:5]))\n"
   ]
  },
  {
   "cell_type": "code",
   "execution_count": null,
   "id": "0faada50",
   "metadata": {},
   "outputs": [],
   "source": [
    "print(lr.predict_proba(test_scaled[0:5]))"
   ]
  },
  {
   "cell_type": "code",
   "execution_count": null,
   "id": "40986c6b",
   "metadata": {},
   "outputs": [],
   "source": [
    "print(lr.classes_)"
   ]
  },
  {
   "cell_type": "code",
   "execution_count": null,
   "id": "e7f4119a",
   "metadata": {},
   "outputs": [],
   "source": [
    "from scipy.special import softmax\n",
    "decision=lr.decision_function(test_scaled[:5])\n",
    "print(np.round(decision,decimals=2))"
   ]
  },
  {
   "cell_type": "code",
   "execution_count": null,
   "id": "0dc75a67",
   "metadata": {},
   "outputs": [],
   "source": [
    "proba=softmax(decision,axis=1)\n",
    "print(np.round(proba,decimals=3))"
   ]
  },
  {
   "cell_type": "code",
   "execution_count": null,
   "id": "9fc42a2b",
   "metadata": {},
   "outputs": [],
   "source": []
  }
 ],
 "metadata": {
  "kernelspec": {
   "display_name": "Python 3",
   "language": "python",
   "name": "python3"
  },
  "language_info": {
   "codemirror_mode": {
    "name": "ipython",
    "version": 3
   },
   "file_extension": ".py",
   "mimetype": "text/x-python",
   "name": "python",
   "nbconvert_exporter": "python",
   "pygments_lexer": "ipython3",
   "version": "3.10.12"
  }
 },
 "nbformat": 4,
 "nbformat_minor": 5
}
